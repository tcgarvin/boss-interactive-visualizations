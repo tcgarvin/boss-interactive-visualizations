{
 "cells": [
  {
   "cell_type": "code",
   "execution_count": 3,
   "metadata": {},
   "outputs": [],
   "source": [
    "import altair as alt\n",
    "import numpy as np\n",
    "import pandas as pd\n",
    "\n",
    "from datetime import timedelta"
   ]
  },
  {
   "cell_type": "code",
   "execution_count": 4,
   "metadata": {},
   "outputs": [],
   "source": [
    "chosen_owners = [\"Eli\", \"Heather\", \"Kensie\", \"Sam\", \"Rachel\"]\n",
    "days = 150"
   ]
  },
  {
   "cell_type": "code",
   "execution_count": 5,
   "metadata": {},
   "outputs": [],
   "source": [
    "# Load Data\n",
    "df = pd.read_json(\"workitems.json\")\n",
    "df[\"iterationStartDate\"] = pd.to_datetime(df[\"iterationStartDate\"])\n",
    "df[\"workStartDate\"] = pd.to_datetime(df[\"workStartDate\"])\n",
    "df[\"finishDate\"] = pd.to_datetime(df[\"finishDate\"])"
   ]
  },
  {
   "cell_type": "code",
   "execution_count": 6,
   "metadata": {},
   "outputs": [],
   "source": [
    "# Filter Data based on `chosen_owners` and `days`\n",
    "filtered = df[df.owner.isin(chosen_owners)]\n",
    "\n",
    "end_date = filtered[\"iterationStartDate\"].max()\n",
    "start_date = end_date - timedelta(days)\n",
    "\n",
    "filtered = filtered[filtered.iterationStartDate.between(start_date, end_date)]"
   ]
  },
  {
   "cell_type": "code",
   "execution_count": 7,
   "metadata": {},
   "outputs": [],
   "source": [
    "filtered = df"
   ]
  },
  {
   "cell_type": "code",
   "execution_count": 15,
   "metadata": {},
   "outputs": [],
   "source": [
    "from collections import defaultdict\n",
    "import json\n",
    "# Wrangle data to get cumulative points over time\n",
    "date_range = pd.date_range(start_date, end_date)\n",
    "points_over_time = pd.pivot_table(filtered, values=\"points\", index=[\"finishDate\"], columns=[\"owner\"], aggfunc=np.sum, fill_value=0)\n",
    "points_over_time = points_over_time.reindex(date_range, fill_value=0)\n",
    "points_over_time = points_over_time.cumsum()\n",
    "\n",
    "d3_friendly = defaultdict(list)\n",
    "for date, row in points_over_time.iterrows():\n",
    "    for owner in chosen_owners:\n",
    "        d3_friendly[owner].append((date.to_pydatetime().isoformat(),int(row[owner])))\n",
    "    \n",
    "d3_friendly\n",
    "with open(\"pointsOverTime.json\", \"w\") as output:\n",
    "    json.dump(d3_friendly, output)"
   ]
  },
  {
   "cell_type": "code",
   "execution_count": null,
   "metadata": {},
   "outputs": [],
   "source": []
  }
 ],
 "metadata": {
  "kernelspec": {
   "display_name": "Python 3",
   "language": "python",
   "name": "python3"
  },
  "language_info": {
   "codemirror_mode": {
    "name": "ipython",
    "version": 3
   },
   "file_extension": ".py",
   "mimetype": "text/x-python",
   "name": "python",
   "nbconvert_exporter": "python",
   "pygments_lexer": "ipython3",
   "version": "3.7.5"
  }
 },
 "nbformat": 4,
 "nbformat_minor": 4
}
